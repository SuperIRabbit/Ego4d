{
 "cells": [
  {
   "cell_type": "code",
   "execution_count": null,
   "id": "a39dad67",
   "metadata": {},
   "outputs": [],
   "source": [
    "import os\n",
    "import copy\n",
    "from ego4d.internal.colmap.preprocess import (\n",
    "    ColmapConfig,\n",
    "    produce_colmap_script,\n",
    "    get_colmap_data_dir,\n",
    ")\n",
    "\n",
    "%matplotlib inline\n",
    "import matplotlib.pyplot as plt\n",
    "\n",
    "from matplotlib import rcParams\n",
    "\n",
    "import cv2"
   ]
  },
  {
   "cell_type": "markdown",
   "id": "5551ee3d",
   "metadata": {},
   "source": [
    "# Generate COLMAP inputs + Validate\n",
    "\n",
    "Pleae generate the configuration as appropriate, and check the visualizations below under \"Validate Configuration\".\n",
    "\n",
    "Once you have generated a validation configuration, you may upload this to S3. Please refer to the \"Upload Configuration\" section."
   ]
  },
  {
   "cell_type": "markdown",
   "id": "e9002676",
   "metadata": {},
   "source": [
    "## Configure + Generate\n",
    "\n",
    "Please refer to the inline documentation below."
   ]
  },
  {
   "cell_type": "code",
   "execution_count": null,
   "id": "005286f3",
   "metadata": {
    "scrolled": true
   },
   "outputs": [],
   "source": [
    "COLMAP_BIN = None  # supply your COLMAP_BIN path here\n",
    "VRS_BIN = None  # supply your path to VRS here\n",
    "\n",
    "# be sure to use an absolute path\n",
    "DATA_DIR = \"/private/home/miguelmartin/ego4d/ego4d_public/data_experiments_test/\""
   ]
  },
  {
   "cell_type": "code",
   "execution_count": null,
   "id": "f62cedf6",
   "metadata": {},
   "outputs": [],
   "source": [
    "config = ColmapConfig(\n",
    "    # what take to use\n",
    "    uni_name=\"unc\",\n",
    "    take_id=\"T1\",\n",
    "    \n",
    "    # where to save data\n",
    "    data_dir=DATA_DIR,\n",
    "    # whether we want COLMAP to use the GPU whenever possible\n",
    "    use_gpu=True,\n",
    "    \n",
    "    # whether we are taking synchronized exo-centric frames\n",
    "    sync_exo_views=True,\n",
    "    \n",
    "    # there are three rot_mode's:\n",
    "    # - 0 => perform no rotation\n",
    "    # - 1 => rotate aria to exo\n",
    "    # - 2 => rotate exo to aria\n",
    "    rot_mode=1,\n",
    "    \n",
    "    # refer to https://colmap.github.io/cameras.html\n",
    "    # OPENCV_FISHEYE is for GoPro\n",
    "    # THIN_PRISM_FISHEYE is for Aria\n",
    "    camera_model=\"OPENCV_FISHEYE\",\n",
    "#     camera_model=\"THIN_PRISM_FISHEYE\",\n",
    "    \n",
    "    # the inverse of the number of frames per second to sample\n",
    "    # the mobile walkaround and aria walkaround\n",
    "    frame_rate=0.25,\n",
    "    \n",
    "    # specific mobile frames to use\n",
    "    # if None then all frames are considered using `frame_rate`\n",
    "    mobile_frames=None,\n",
    "    \n",
    "    # whether to include the aria walkaround\n",
    "    include_aria=True,\n",
    "    # assuming the walkaround is in the VRS file, when is the last timestamp that the walkaround occurs\n",
    "    # if not provided will use `aria_frames` if aria_use_sync_info is False\n",
    "    aria_last_walkthrough_sec=None,\n",
    "    # if aria_use_sync_info is True then aria_last_walkthrough_sec will be assigned \n",
    "    # based off timesync data\n",
    "    aria_use_sync_info=True,\n",
    "    # specific frames for the walkaround \n",
    "    # if not provided will use all frames in aria will be used (subsampled using `frame_rate`)\n",
    "    aria_frames=None,\n",
    "    \n",
    "    # where to sample the exo videos from\n",
    "    exo_from_frame=700,\n",
    "    exo_to_frame=720,\n",
    "    # specific frames for each exo video\n",
    "    # if one is provided below, all must be provided and exo_from_frame/exo_to_frame must be None\n",
    "    exo1_frames=None,\n",
    "    exo2_frames=None,\n",
    "    exo3_frames=None,\n",
    "    exo4_frames=None,\n",
    "    \n",
    "    # the name of the configuration (a relative path/directory where all frames and config is saved to)\n",
    "    # if none a name will be automatically constructed from the above configuration\n",
    "    name=None,\n",
    "    \n",
    "    # misc\n",
    "    aria_fps=30,      # aria is assumed to be (approx) 30fps by default\n",
    "    exo_fps=None,     # if none, this will be determined from the video file\n",
    "    mobile_fps=None,  # if none, this will be determined from the video file\n",
    "    run_colmap=False, # whether we want to run colmap after\n",
    "    colmap_bin=COLMAP_BIN, # where colmap is located, if None a default will be provided\n",
    "    vrs_bin=VRS_BIN,       # where vrs is located, if None a default will be provided\n",
    "    download_video_files=True, # whether we stream from S3 or download videos (changeme if timeout occurs)\n",
    "    force_download=False, # if download_video_files is True, force_download will force a re-download of video files\n",
    ")"
   ]
  },
  {
   "cell_type": "code",
   "execution_count": null,
   "id": "9ee6a4ba",
   "metadata": {},
   "outputs": [],
   "source": [
    "produce_colmap_script(copy.deepcopy(config))"
   ]
  },
  {
   "cell_type": "markdown",
   "id": "78f3a13b",
   "metadata": {},
   "source": [
    "# Validate Configuration\n",
    "\n",
    "The below section visualizes the exo-centric frames. Please verify that there is no occulusions in each frame. If there is an occulusion, such as a QR code, this may cause issues with SfM (COLMAP)."
   ]
  },
  {
   "cell_type": "code",
   "execution_count": null,
   "id": "c67321fa",
   "metadata": {},
   "outputs": [],
   "source": [
    "root_dir = get_colmap_data_dir(config)\n",
    "frames_dir = os.path.join(root_dir, \"frames\")\n",
    "exo_img_paths = {\n",
    "    x: [\n",
    "        os.path.join(frames_dir, x, p)\n",
    "        for p in os.listdir(os.path.join(frames_dir, x))\n",
    "    ]\n",
    "    for x in os.listdir(frames_dir)\n",
    "    if x.startswith(\"cam\")\n",
    "}\n",
    "\n",
    "N_frames = max(len(v) for _, v in exo_img_paths.items())\n",
    "N_cams = len(exo_img_paths)\n",
    "sorted_is = sorted(exo_img_paths.items(), key=lambda x: x[0])\n",
    "viz = [\n",
    "    (cam_i, frame_i, name + f\"_frame_{frame_i}\", path)\n",
    "    for cam_i, (name, paths) in enumerate(sorted_is)\n",
    "    for frame_i, path in enumerate(paths)\n",
    "]\n",
    "\n",
    "fig = plt.figure(figsize=(N_cams * 4, N_frames * 4))\n",
    "ax = fig.subplots(N_cams, N_frames)\n",
    "plt.subplots_adjust(left=0, bottom=0, right=1, top=1, wspace=0, hspace=0.1)\n",
    "\n",
    "for i, j, name, path in viz:\n",
    "    x = cv2.imread(path)\n",
    "    x = cv2.cvtColor(x, cv2.COLOR_BGR2RGB)\n",
    "    h, w = x.shape[0:2]\n",
    "    ax[i][j].set_xticks([], [])\n",
    "    ax[i][j].set_yticks([], [])\n",
    "    ax[i][j].imshow(x)\n",
    "    ax[i][j].set_title(name)"
   ]
  },
  {
   "cell_type": "markdown",
   "id": "29a540f1",
   "metadata": {},
   "source": [
    "# Upload Configuration\n",
    "\n",
    "Please upload your configuration to S3"
   ]
  },
  {
   "cell_type": "code",
   "execution_count": null,
   "id": "358d0d01",
   "metadata": {},
   "outputs": [],
   "source": [
    "# The location is to be determined, please hold off on uploading for now."
   ]
  }
 ],
 "metadata": {
  "kernelspec": {
   "display_name": "colmap_pycolmap",
   "language": "python",
   "name": "colmap_pycolmap"
  },
  "language_info": {
   "codemirror_mode": {
    "name": "ipython",
    "version": 3
   },
   "file_extension": ".py",
   "mimetype": "text/x-python",
   "name": "python",
   "nbconvert_exporter": "python",
   "pygments_lexer": "ipython3",
   "version": "3.9.16"
  }
 },
 "nbformat": 4,
 "nbformat_minor": 5
}
