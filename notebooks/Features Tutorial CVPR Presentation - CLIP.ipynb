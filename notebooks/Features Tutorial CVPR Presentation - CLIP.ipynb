{
 "cells": [
  {
   "cell_type": "code",
   "execution_count": null,
   "id": "5d7cbc4e",
   "metadata": {},
   "outputs": [],
   "source": []
  },
  {
   "cell_type": "markdown",
   "id": "d5ef0b74",
   "metadata": {
    "slideshow": {
     "slide_type": "slide"
    }
   },
   "source": [
    "# Features Tutorial"
   ]
  },
  {
   "cell_type": "code",
   "execution_count": 3,
   "id": "0b84360e",
   "metadata": {
    "slideshow": {
     "slide_type": "skip"
    }
   },
   "outputs": [],
   "source": [
    "import random\n",
    "random.seed(1234)\n",
    "\n",
    "import os\n",
    "os.environ[\"TOKENIZERS_PARALLELISM\"] = \"false\"\n",
    "\n",
    "import time\n",
    "import json\n",
    "import os\n",
    "import math\n",
    "from typing import List\n",
    "\n",
    "import torch\n",
    "import h5py\n",
    "import numpy as np\n",
    "from torch.nn import functional as F\n",
    "from tqdm.auto import tqdm\n",
    "from sentence_transformers import SentenceTransformer\n",
    "import torch.nn as nn\n",
    "from torch.utils.data import DataLoader\n",
    "\n",
    "NARRATION_JSON_PATH = \"/datasets01/ego4d_track2/v1/annotations/narration.json\"\n",
    "FEATURE_DIR = \"/checkpoint/miguelmartin/ego4d_track2_features/full_scale/omnivore_video_swinL\"\n",
    "FEATURES_PER_SECOND = 30 / 16\n",
    "FEATURE_DIM = 1536\n",
    "\n",
    "VIDEO_UIDS = [x.split(\".pt\")[0] for x in os.listdir(FEATURE_DIR) if \"yaml\" not in x]\n",
    "\n",
    "random.shuffle(VIDEO_UIDS)\n",
    "EXAMPLE_VIDEO_UID = VIDEO_UIDS[0]\n",
    "VIDEO_UIDS_EXAMPLE_SET = set(VIDEO_UIDS)"
   ]
  },
  {
   "cell_type": "markdown",
   "id": "43f3e793",
   "metadata": {
    "slideshow": {
     "slide_type": "slide"
    }
   },
   "source": [
    "# Step 1: Prepare Data\n",
    "\n",
    "- Preprocess:\n",
    "   1. Ego4D:\n",
    "       1. *Video Features*: convert to HDF5 file\n",
    "       2. *Narration Features*: extract & convert to HDF5 file\n",
    "   2. Kinetics400: Extract features from Labels / Videos & save to HDF5\n",
    "       - Labels converted to `\"The person in this video is doing <label>\"`\n",
    "   3. Ego-Charades: Extract features from Labels / Videos & save to HDF5\n",
    "       - Labels will be as-is\n",
    "       \n",
    "- HDF5 to store features\n",
    "- Pickle file (`torch.save` / `torch.load`) to store keys as HDF5 is slow with respect to getting keys"
   ]
  },
  {
   "cell_type": "markdown",
   "id": "e952a28c",
   "metadata": {
    "slideshow": {
     "slide_type": "slide"
    }
   },
   "source": [
    "## Features"
   ]
  },
  {
   "cell_type": "code",
   "execution_count": 26,
   "id": "41cec48e",
   "metadata": {
    "slideshow": {
     "slide_type": "slide"
    }
   },
   "outputs": [],
   "source": [
    "FEATURE_HDF5_OUT_PATH = \"features_ex.hdf5\"\n",
    "NARR_HDF5_OUT_PATH = \"narrs_ex.hdf5\"\n",
    "NARR_META_OUT_PATH = \"narrs_ex.pt\""
   ]
  },
  {
   "cell_type": "code",
   "execution_count": 5,
   "id": "bc1cf447",
   "metadata": {
    "slideshow": {
     "slide_type": "fragment"
    }
   },
   "outputs": [
    {
     "data": {
      "application/vnd.jupyter.widget-view+json": {
       "model_id": "33011427dadc44038e9b1dc6aaa3fef7",
       "version_major": 2,
       "version_minor": 0
      },
      "text/plain": [
       "video_uid:   0%|          | 0/9645 [00:00<?, ?it/s]"
      ]
     },
     "metadata": {},
     "output_type": "display_data"
    },
    {
     "data": {
      "text/plain": [
       "291.9125545024872"
      ]
     },
     "execution_count": 5,
     "metadata": {},
     "output_type": "execute_result"
    }
   ],
   "source": [
    "with h5py.File(FEATURE_HDF5_OUT_PATH, \"w\") as out_f:\n",
    "    for uid in tqdm(video_uids, desc=\"video_uid\", leave=True):\n",
    "        feature_path = os.path.join(FEATURE_DIR, f\"{uid}.pt\")\n",
    "        fv = torch.load(feature_path)\n",
    "        out_f.create_dataset(uid, data=fv.numpy())"
   ]
  },
  {
   "cell_type": "markdown",
   "id": "a4fa5ff8",
   "metadata": {
    "slideshow": {
     "slide_type": "slide"
    }
   },
   "source": [
    "## Narrations"
   ]
  },
  {
   "cell_type": "code",
   "execution_count": 6,
   "id": "6d03ecbc",
   "metadata": {
    "slideshow": {
     "slide_type": "fragment"
    }
   },
   "outputs": [],
   "source": []
  },
  {
   "cell_type": "code",
   "execution_count": 7,
   "id": "035aacbc",
   "metadata": {
    "slideshow": {
     "slide_type": "fragment"
    }
   },
   "outputs": [
    {
     "data": {
      "application/vnd.jupyter.widget-view+json": {
       "model_id": "2c7371b8acc545b5b80202151c82ce5e",
       "version_major": 2,
       "version_minor": 0
      },
      "text/plain": [
       "  0%|          | 0/9645 [00:00<?, ?it/s]"
      ]
     },
     "metadata": {},
     "output_type": "display_data"
    },
    {
     "data": {
      "application/vnd.jupyter.widget-view+json": {
       "model_id": "8aa2ade707134d098bff4013763a718e",
       "version_major": 2,
       "version_minor": 0
      },
      "text/plain": [
       "  0%|          | 0/9645 [00:00<?, ?it/s]"
      ]
     },
     "metadata": {},
     "output_type": "display_data"
    },
    {
     "data": {
      "text/plain": [
       "5025980"
      ]
     },
     "execution_count": 7,
     "metadata": {},
     "output_type": "execute_result"
    }
   ],
   "source": [
    "# NOTE: this is missing validation set removal\n",
    "\n",
    "uid_subset = VIDEO_UIDS_EXAMPLE_SET\n",
    "narration_json = json.load(open(NARRATION_JSON_PATH))\n",
    "narrations = [\n",
    "    (uid, data[\"narration_text\"], data[\"timestamp_sec\"], 1)\n",
    "    for uid in tqdm(uid_subset)\n",
    "    for data in narration_json[uid].\n",
    "    get(\"narration_pass_1\", \n",
    "        {\"narrations\": []})[\"narrations\"]\n",
    "]\n",
    "narrations += [\n",
    "    (uid, data[\"narration_text\"], data[\"timestamp_sec\"], 2)\n",
    "    for uid in tqdm(uid_subset)\n",
    "    for data in narration_json[uid].get(\"narration_pass_2\", {\"narrations\": []})[\"narrations\"]\n",
    "]\n",
    "\n",
    "narrations.sort(key=lambda x: (x[0], x[-1]))\n",
    "len(narrations)"
   ]
  },
  {
   "cell_type": "code",
   "execution_count": 8,
   "id": "daf549d7",
   "metadata": {},
   "outputs": [],
   "source": [
    "# only run\n",
    "random.shuffle(narrations)\n",
    "narrations = narrations[0:50000]"
   ]
  },
  {
   "cell_type": "code",
   "execution_count": 9,
   "id": "a0f7ae1d",
   "metadata": {
    "slideshow": {
     "slide_type": "slide"
    }
   },
   "outputs": [],
   "source": [
    "def sub_tagged_tokens(text: str) -> str:\n",
    "    text = text.replace(\"#C\", \"Camera wearer\")\n",
    "    text = text.replace(\"#O\", \"Other person\")\n",
    "    text = text.replace(\"#unsure\", \"something\")\n",
    "    return text"
   ]
  },
  {
   "cell_type": "code",
   "execution_count": 10,
   "id": "ef52aaa7",
   "metadata": {
    "slideshow": {
     "slide_type": "slide"
    }
   },
   "outputs": [
    {
     "data": {
      "text/plain": [
       "35.74345922470093"
      ]
     },
     "execution_count": 10,
     "metadata": {},
     "output_type": "execute_result"
    }
   ],
   "source": [
    "def encode_narrations():\n",
    "    model = SentenceTransformer(\"all-mpnet-base-v2\")\n",
    "    return model.encode([\n",
    "        sub_tagged_tokens(txt)\n",
    "        for _, txt, _, _ in narrations\n",
    "    ])\n",
    "\n",
    "t1 = time.time()\n",
    "fvs = encode_narrations()\n",
    "t2 = time.time()\n",
    "t2 - t1"
   ]
  },
  {
   "cell_type": "code",
   "execution_count": 11,
   "id": "d77348dd",
   "metadata": {
    "slideshow": {
     "slide_type": "slide"
    }
   },
   "outputs": [
    {
     "data": {
      "text/plain": [
       "'95e3cefa-e6a2-4c1e-831d-616a86ff177b_#C C adjusts the weighing platform of the scale with both hands._1704.945_1'"
      ]
     },
     "execution_count": 11,
     "metadata": {},
     "output_type": "execute_result"
    }
   ],
   "source": [
    "# create keys of narrations to store in HDF5 \n",
    "key_to_narr_idx = {\n",
    "    f\"{uid}_{txt}_{ts:.3f}_{pazz}\": (idx, (uid, txt, ts))\n",
    "    for idx, (uid, txt, ts, pazz) in enumerate(narrations)\n",
    "}\n",
    "assert len(key_to_narr_idx) == len(narrations)\n",
    "list(key_to_narr_idx.keys())[0]"
   ]
  },
  {
   "cell_type": "code",
   "execution_count": 12,
   "id": "4d312c77",
   "metadata": {
    "slideshow": {
     "slide_type": "slide"
    }
   },
   "outputs": [
    {
     "data": {
      "application/vnd.jupyter.widget-view+json": {
       "model_id": "80fb5ae9f2984d75ba71605ee757a3fc",
       "version_major": 2,
       "version_minor": 0
      },
      "text/plain": [
       "  0%|          | 0/50000 [00:00<?, ?it/s]"
      ]
     },
     "metadata": {},
     "output_type": "display_data"
    }
   ],
   "source": [
    "t1 = time.time()\n",
    "with h5py.File(NARR_HDF5_EX_PATH, \"w\") as out_f:\n",
    "    for key, (idx, _) in tqdm(key_to_narr_idx.items(), total=len(key_to_narr_idx)):\n",
    "        fv = fvs[idx]\n",
    "        out_f.create_dataset(key, data=fv)\n",
    "t2 = time.time()"
   ]
  },
  {
   "cell_type": "code",
   "execution_count": 13,
   "id": "8bf720ff",
   "metadata": {
    "slideshow": {
     "slide_type": "slide"
    }
   },
   "outputs": [
    {
     "data": {
      "text/plain": [
       "{'key': '95e3cefa-e6a2-4c1e-831d-616a86ff177b_#C C adjusts the weighing platform of the scale with both hands._1704.945_1',\n",
       " 'uid': '95e3cefa-e6a2-4c1e-831d-616a86ff177b',\n",
       " 'txt': '#C C adjusts the weighing platform of the scale with both hands.',\n",
       " 'ts': 1704.9446}"
      ]
     },
     "execution_count": 13,
     "metadata": {},
     "output_type": "execute_result"
    }
   ],
   "source": [
    "# save off the keys/metadata with torch.save (pickle)\n",
    "narration_metadata = [\n",
    "    {\"key\": key, \"uid\": uid, \"txt\": txt, \"ts\": ts}\n",
    "    for key, (_, (uid, txt, ts)) in key_to_narr_idx.items()\n",
    "]\n",
    "torch.save(narration_metadata, NARR_META_PATH)\n",
    "narration_metadata[0]"
   ]
  },
  {
   "cell_type": "markdown",
   "id": "3c267105",
   "metadata": {
    "slideshow": {
     "slide_type": "slide"
    }
   },
   "source": [
    "# Preprocess in the same way Kinetics and Ego-Charades\n",
    "\n",
    "Please refer to the code in `ego4d/research/clip/preprocess.py`"
   ]
  },
  {
   "cell_type": "markdown",
   "id": "0e53d676",
   "metadata": {
    "slideshow": {
     "slide_type": "slide"
    }
   },
   "source": [
    "# Step 2: Datasets/Dataloaders\n",
    "\n",
    "- For **classification tasks** (zero-shot) we can build a generic dataloader which accepts as input:\n",
    "   - Feature HDF5 path\n",
    "   - list of `[(key, label_dict)]`\n",
    "- For **video (visual) / narration pairs**: we can build a specialized dataloader"
   ]
  },
  {
   "cell_type": "markdown",
   "id": "938b0ed9",
   "metadata": {
    "slideshow": {
     "slide_type": "slide"
    }
   },
   "source": [
    "## Utility To Get Start/End Index\n",
    "\n",
    "First thing we'll need is to get the features ranging from `[t1, t2]`\n",
    "\n",
    "- `features_per_sec == 30 / 16` (fps of canonical video divided by stride)\n",
    "- `nf` is the number number of features for video"
   ]
  },
  {
   "cell_type": "code",
   "execution_count": 28,
   "id": "587c534e",
   "metadata": {
    "slideshow": {
     "slide_type": "fragment"
    }
   },
   "outputs": [],
   "source": [
    "def get_start_end_idx(t1: float, t2: float, feature_per_sec: float, nf: int):\n",
    "    assert t2 >= 0\n",
    "    x1 = min(\n",
    "        max(0, math.floor(t1 * feature_per_sec)),\n",
    "        nf - 1,\n",
    "    )\n",
    "    x2 = min(\n",
    "       math.floor(t2 * feature_per_sec),\n",
    "       nf - 1,\n",
    "    )\n",
    "    assert x2 >= x1\n",
    "    return x1, x2 + 1"
   ]
  },
  {
   "cell_type": "markdown",
   "id": "35ee7111",
   "metadata": {
    "slideshow": {
     "slide_type": "slide"
    }
   },
   "source": [
    "# Visual / Language Pair Dataset"
   ]
  },
  {
   "cell_type": "code",
   "execution_count": 29,
   "id": "bd17c616",
   "metadata": {
    "slideshow": {
     "slide_type": "slide"
    }
   },
   "outputs": [],
   "source": [
    "class Ego4DClipDset(torch.utils.data.Dataset):\n",
    "    def __init__(self, offset_sec=2):\n",
    "        super().__init__()\n",
    "        \n",
    "        self.features = h5py.File(FEATURE_HDF5_EX_PATH)\n",
    "        self.narrs = h5py.File(NARR_HDF5_EX_PATH)\n",
    "        self.metadata = torch.load(NARR_META_PATH)\n",
    "        self.offset_sec = offset_sec\n",
    "    \n",
    "    def __len__(self):\n",
    "        return len(self.metadata)\n",
    "    \n",
    "    def __getitem__(self, idx):\n",
    "        meta = self.metadata[idx]\n",
    "        narr_key = meta[\"key\"]\n",
    "        uid = meta[\"uid\"]\n",
    "        \n",
    "        t = meta[\"ts\"]\n",
    "        t1 = t - self.offset_sec\n",
    "        t2 = t + self.offset_sec\n",
    "        \n",
    "        vid_feat = self.features[uid]\n",
    "        start_idx, end_idx = get_start_end_idx(\n",
    "            t1, t2, FEATURES_PER_SECOND, len(vid_feat)\n",
    "        )\n",
    "        \n",
    "        txt_feat = self.narrs[narr_key][0:]\n",
    "\n",
    "        return {\n",
    "            # Alternatively you could sample a constant number here\n",
    "            \"video\": torch.tensor(vid_feat[start_idx:end_idx]).mean(0),\n",
    "            \"text\": torch.tensor(txt_feat),\n",
    "        }"
   ]
  },
  {
   "cell_type": "code",
   "execution_count": 30,
   "id": "9bcdb66e",
   "metadata": {
    "slideshow": {
     "slide_type": "slide"
    }
   },
   "outputs": [
    {
     "data": {
      "text/plain": [
       "(torch.Size([1536]), 50000)"
      ]
     },
     "execution_count": 30,
     "metadata": {},
     "output_type": "execute_result"
    }
   ],
   "source": [
    "dset = Ego4DClipDset(2)\n",
    "dset[25][\"video\"].shape, len(dset)"
   ]
  },
  {
   "cell_type": "markdown",
   "id": "86ccf9e5",
   "metadata": {
    "slideshow": {
     "slide_type": "slide"
    }
   },
   "source": [
    "# The Model"
   ]
  },
  {
   "cell_type": "code",
   "execution_count": 31,
   "id": "69499b1f",
   "metadata": {
    "slideshow": {
     "slide_type": "slide"
    }
   },
   "outputs": [],
   "source": [
    "class ClipModel(nn.Module):\n",
    "    def __init__(self, txt_in_f=768, vid_in_f=1536):\n",
    "        super().__init__()\n",
    "        self.visual_proj = nn.Sequential(\n",
    "            nn.Linear(vid_in_f, FEATURE_DIM),\n",
    "            nn.ReLU(True),\n",
    "            nn.Linear(FEATURE_DIM, FEATURE_DIM)\n",
    "        )\n",
    "        self.text_proj = nn.Sequential(\n",
    "            nn.Linear(txt_in_f, FEATURE_DIM),\n",
    "            nn.ReLU(True),\n",
    "            nn.Linear(FEATURE_DIM, FEATURE_DIM)\n",
    "        )\n",
    "        self.apply(self.init_weights)\n",
    "        self.logit_scale = nn.Parameter(torch.ones([]) * np.log(1 / 0.07))\n",
    "    \n",
    "    def init_weights(self, module):\n",
    "        if isinstance(module, nn.Linear):\n",
    "            torch.nn.init.xavier_uniform_(module.weight.data, gain=torch.nn.init.calculate_gain('relu'))\n",
    "            module.bias.data.zero_()\n",
    "    \n",
    "    def forward(self, x):\n",
    "        ve = self.visual_proj(x[\"video\"])\n",
    "        te = self.text_proj(x[\"text\"])\n",
    "        return ve, te, self.logit_scale"
   ]
  },
  {
   "cell_type": "code",
   "execution_count": 32,
   "id": "2cf72a32",
   "metadata": {
    "slideshow": {
     "slide_type": "slide"
    }
   },
   "outputs": [],
   "source": [
    "def compute_loss(vid2txt, txt2vid, device):\n",
    "    N = v_f.shape[0]\n",
    "    label = torch.eye(N, device=device)\n",
    "    loss = (\n",
    "        F.cross_entropy(vid2txt, label) +\n",
    "        F.cross_entropy(txt2vid, label)\n",
    "    ) / 2.0\n",
    "    return loss"
   ]
  },
  {
   "cell_type": "code",
   "execution_count": 33,
   "id": "cd579291",
   "metadata": {
    "slideshow": {
     "slide_type": "slide"
    }
   },
   "outputs": [],
   "source": [
    "device = \"cuda\"\n",
    "model = ClipModel().to(device)"
   ]
  },
  {
   "cell_type": "code",
   "execution_count": 34,
   "id": "1bf98e11",
   "metadata": {
    "slideshow": {
     "slide_type": "slide"
    }
   },
   "outputs": [],
   "source": [
    "dloader = DataLoader(dset, batch_size=128, num_workers=10, pin_memory=False)  # use workers > 1 for efficiency"
   ]
  },
  {
   "cell_type": "code",
   "execution_count": 35,
   "id": "b8d415e3",
   "metadata": {
    "slideshow": {
     "slide_type": "slide"
    }
   },
   "outputs": [],
   "source": [
    "optim = torch.optim.AdamW(\n",
    "    model.parameters(),\n",
    "    lr=0.0001,\n",
    "    betas=(0.98, 0.9),\n",
    "    eps=1e-6,\n",
    ")"
   ]
  },
  {
   "cell_type": "code",
   "execution_count": 36,
   "id": "20b4d39b",
   "metadata": {
    "slideshow": {
     "slide_type": "slide"
    }
   },
   "outputs": [
    {
     "name": "stdout",
     "output_type": "stream",
     "text": [
      "Epoch 0, Loss: 1.9789854288101196, Examples/s: 9339.04441825466\n",
      "Epoch 1, Loss: 1.1801788806915283, Examples/s: 9667.672824670813\n",
      "Epoch 2, Loss: 0.7611839771270752, Examples/s: 9693.215107174368\n",
      "Epoch 3, Loss: 0.48869460821151733, Examples/s: 9558.827584694896\n",
      "Epoch 4, Loss: 0.31157782673835754, Examples/s: 9649.203931657485\n",
      "Epoch 5, Loss: 0.21405833959579468, Examples/s: 9936.787752282891\n",
      "Epoch 6, Loss: 0.16565120220184326, Examples/s: 9673.318755371658\n",
      "Epoch 7, Loss: 0.2100939154624939, Examples/s: 9830.772494114035\n",
      "Epoch 8, Loss: 0.16152575612068176, Examples/s: 9538.249816628271\n",
      "Epoch 9, Loss: 0.15146878361701965, Examples/s: 9364.432008657699\n",
      "Epoch 10, Loss: 0.19459089636802673, Examples/s: 9769.538977798295\n",
      "Epoch 11, Loss: 0.13877642154693604, Examples/s: 9718.524746821122\n",
      "Epoch 12, Loss: 0.15733273327350616, Examples/s: 9673.09968040956\n",
      "Epoch 13, Loss: 0.08673865348100662, Examples/s: 9640.256928013003\n",
      "Epoch 14, Loss: 0.10245321691036224, Examples/s: 9506.879408286117\n"
     ]
    }
   ],
   "source": [
    "num_epochs = 15\n",
    "model.train()\n",
    "for i in range(num_epochs):\n",
    "    n_ex = 0\n",
    "    t1 = time.time()\n",
    "    for batch in dloader:\n",
    "        # xfer to devices\n",
    "        batch = {x: y.to(device) for x, y in batch.items()}\n",
    "        \n",
    "        optim.zero_grad()\n",
    "        \n",
    "        v_f, t_f, logit_scale = model(batch)\n",
    "        vid2txt = logit_scale * v_f @ t_f.T\n",
    "        txt2vid = logit_scale * t_f @ v_f.T\n",
    "        loss = compute_loss(vid2txt, txt2vid, device)\n",
    "        \n",
    "        loss.backward(); optim.step(); # scheduler.step()\n",
    "        n_ex += batch[\"video\"].shape[0]\n",
    "        \n",
    "        with torch.no_grad():\n",
    "            model.logit_scale.clamp_(0, math.log(100))\n",
    "    t2 = time.time()\n",
    "    print(f\"Epoch {i}, Loss: {loss}, Examples/s: {n_ex/(t2 - t1)}\")"
   ]
  },
  {
   "cell_type": "markdown",
   "id": "8dcb31a3",
   "metadata": {
    "slideshow": {
     "slide_type": "slide"
    }
   },
   "source": [
    "# Future Directions\n",
    "\n",
    "- Other paper's directions\n",
    "  - Hard-negative mining or include hard negatives in batch as done in VideoCLIP / EgoVLP\n",
    "  - Heuristic for positive examples (text similarity, EgoVLP heuristic)\n",
    "- Augment training with image dataset (due to omnivore)\n",
    "- Self-attention for the model / feature transformation\n",
    "- Extend to end-to-end training"
   ]
  }
 ],
 "metadata": {
  "kernelspec": {
   "display_name": "ego_clip",
   "language": "python",
   "name": "ego_clip"
  },
  "language_info": {
   "codemirror_mode": {
    "name": "ipython",
    "version": 3
   },
   "file_extension": ".py",
   "mimetype": "text/x-python",
   "name": "python",
   "nbconvert_exporter": "python",
   "pygments_lexer": "ipython3",
   "version": "3.10.4"
  }
 },
 "nbformat": 4,
 "nbformat_minor": 5
}
