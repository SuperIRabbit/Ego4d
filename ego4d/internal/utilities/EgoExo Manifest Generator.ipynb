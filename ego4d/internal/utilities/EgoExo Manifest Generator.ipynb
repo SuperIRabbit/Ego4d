{
 "cells": [
  {
   "cell_type": "markdown",
   "metadata": {
    "customInput": null,
    "deletable": false,
    "editable": false,
    "originalKey": "27e014a8-037f-44e4-9977-c2f4ef657ac1",
    "showInput": false
   },
   "source": [
    "# EgoExo Manifest Generator\n",
    "\n",
    "Generates a set of EgoExo manifest files from the given s3 directory using smart defaults.\n",
    "\n",
    "### Pre-requisites:\n",
    "- Jupyter kernel with boto3 and pandas installed\n",
    "- You have run `aws configure` and set up your AWS keys\n",
    "- (Highly recommended) Recorded files are already uploaded to s3\n",
    "- ROOT_DIR has the structure: `<ROOT_DIR>/<take_id>/(ego|exo)/<camera_id>/<video files>`\n",
    "\n",
    "### How To Use:\n",
    "1. Set the variables in the cell below.\n",
    "2. Run all. This will output manifest files to `<OUTPUT_DIRECTORY>/manifest_<MANIFEST_VERSION>/`.\n",
    "3. Edit the .csv files to add additional metadata and ensure correctness.\n",
    "4. Continue the instructions in the [Post-Capture Processing Doc](https://docs.google.com/document/d/1QY3GFSpia9kvFJVvzsRic6Wx0Qya-RiicIrSObi6vZY/edit?usp=sharing)\n",
    "\n",
    "The following files are generated:\n",
    "- take_metadata.csv\n",
    "- video_metadata.csv\n",
    "- video_component_file.csv\n",
    "- validation_output.json\n",
    "\n",
    "Note: It is **safe** to modify manifest files after generation and re-run.\n",
    "This notebook will retain existing rows, and only add new ones that didn't exist.\n",
    "\n",
    "Note: Most cells in this notebook are uneditable for safety. Set `\"editable\": true` in a cell's metadata if you want customize it."
   ]
  },
  {
   "cell_type": "code",
   "execution_count": null,
   "metadata": {
    "deletable": false,
    "executionStartTime": 1675967242373,
    "executionStopTime": 1675967242501,
    "originalKey": "8f2b8a6a-6c7a-452c-9be9-26dbeef3c82f",
    "requestMsgId": "73ca408c-784c-4dfc-a99e-1019038ef67f"
   },
   "outputs": [],
   "source": [
    "ROOT_DIR = \"<full s3 path to root data directory>\" # e.g. s3://<university_bucket>/egoexo/data/\n",
    "WALKAROUND_CAM_NAMES = [\"mobile\"] # Exo Cameras that will always have walkarounds\n",
    "EGO_HAS_WALKAROUND = True # True if Ego Cameras all have walkarounds (this should be the case)\n",
    "OUTPUT_DIRECTORY = \"<full path to output directory here>\" # e.g. /Users/<username>/egoexo/\n",
    "MANIFEST_VERSION = \"v1\""
   ]
  },
  {
   "cell_type": "code",
   "execution_count": null,
   "metadata": {
    "customInput": null,
    "deletable": false,
    "editable": false,
    "executionStartTime": 1675967242573,
    "executionStopTime": 1675967242589,
    "originalKey": "690fd7da-16d0-4749-9310-34759b9c8762",
    "requestMsgId": "2d8604fe-7573-4768-b13a-2b779c4bec2c",
    "showInput": true
   },
   "outputs": [],
   "source": [
    "# Imports\n",
    "import os\n",
    "import boto3\n",
    "import pandas as pd"
   ]
  },
  {
   "cell_type": "code",
   "execution_count": null,
   "metadata": {
    "customInput": null,
    "deletable": false,
    "editable": false,
    "executionStartTime": 1675967242657,
    "executionStopTime": 1675967242688,
    "originalKey": "322891c6-a11d-429c-aa9d-3e7b225afcc7",
    "requestMsgId": "8f076aef-eb3f-4fbb-8a19-2cc926e263f8",
    "showInput": true
   },
   "outputs": [],
   "source": [
    "# Utilities\n",
    "s3 = boto3.resource(\"s3\")\n",
    "\n",
    "def is_s3_path(path):\n",
    "    return path.startswith('s3://')\n",
    "\n",
    "def split_s3_path(s3_path):\n",
    "    path_parts = s3_path.strip().replace(\"s3://\", \"\").split(\"/\")\n",
    "    bucket = path_parts.pop(0)\n",
    "    key = \"/\".join(path_parts)\n",
    "    return bucket, key\n",
    "\n",
    "def ls(path):\n",
    "    if is_s3_path(path):\n",
    "        bucket, key = split_s3_path(path)\n",
    "        if not key.endswith(\"/\"):\n",
    "            key = key + \"/\"\n",
    "        keys = [x.key for x in s3.Bucket(bucket).objects.filter(Prefix=key)]\n",
    "        return list(set([x.replace(key, '').split('/')[0] for x in keys]))\n",
    "    if os.path.isfile(path):\n",
    "        return None\n",
    "    return [f for f in os.listdir(path)]\n",
    "\n",
    "def is_video(path):\n",
    "    filename = os.path.basename(path)\n",
    "    return filename.lower().endswith(\".mp4\") or filename.lower().endswith(\".vrs\")"
   ]
  },
  {
   "cell_type": "markdown",
   "metadata": {
    "customInput": null,
    "deletable": false,
    "editable": false,
    "originalKey": "737deea5-d718-4f46-bf91-1f1f9aa8a4d7",
    "showInput": false
   },
   "source": [
    "## Generate take_metadata.csv"
   ]
  },
  {
   "cell_type": "code",
   "execution_count": null,
   "metadata": {
    "customInput": null,
    "deletable": false,
    "editable": false,
    "executionStartTime": 1675967242764,
    "executionStopTime": 1675967243027,
    "originalKey": "e063b100-e856-4d1f-b1a0-5f25dcd03d41",
    "requestMsgId": "53f6ae14-caef-4795-8fa6-f740a197f83e",
    "showInput": true
   },
   "outputs": [],
   "source": [
    "take_ids = ls(ROOT_DIR)\n",
    "take_ids"
   ]
  },
  {
   "cell_type": "code",
   "execution_count": null,
   "metadata": {
    "customInput": null,
    "deletable": false,
    "editable": false,
    "executionStartTime": 1675967243113,
    "executionStopTime": 1675967246016,
    "originalKey": "849e6a8a-8735-4b4f-9343-efde1f157fd7",
    "requestMsgId": "c70f823b-1f3c-47d3-959d-bdd6b3f7892d",
    "showInput": true
   },
   "outputs": [],
   "source": [
    "clean_take_ids = [\n",
    "    x for x in take_ids if len(set(['ego', 'exo']).intersection(set(ls(os.path.join(ROOT_DIR, x))))) > 0\n",
    "]\n",
    "clean_take_ids"
   ]
  },
  {
   "cell_type": "code",
   "execution_count": null,
   "metadata": {
    "customInput": null,
    "deletable": false,
    "editable": false,
    "executionStartTime": 1675967246234,
    "executionStopTime": 1675967264021,
    "originalKey": "d939600b-7911-4fc7-b862-c42358f0ca60",
    "requestMsgId": "c18b8a15-91b6-4b52-8c85-1dcd8671762c",
    "showInput": true
   },
   "outputs": [],
   "source": [
    "take_metadata_records = []\n",
    "for take_id in clean_take_ids:\n",
    "    root = os.path.join(ROOT_DIR, take_id)\n",
    "    root_ls = ls(root)\n",
    "    ego_cameras = (\n",
    "        ls(os.path.join(root, \"ego\")) if \"ego\" in root_ls else []\n",
    "    )\n",
    "    exo_cameras = (\n",
    "        ls(os.path.join(root, \"exo\")) if \"exo\" in root_ls else []\n",
    "    )\n",
    "\n",
    "    video_count = 0\n",
    "    for cam in ego_cameras:\n",
    "        video_count += len(\n",
    "            [x for x in ls(os.path.join(root, \"ego\", cam)) if is_video(x)]\n",
    "        )\n",
    "    for cam in exo_cameras:\n",
    "        video_count += len(\n",
    "            [x for x in ls(os.path.join(root, \"exo\", cam)) if is_video(x)]\n",
    "        )\n",
    "\n",
    "    take_metadata_records.append(\n",
    "        {\n",
    "            \"university_take_id\": take_id,\n",
    "            \"university_video_folder_path\": os.path.join(ROOT_DIR, take_id) if is_s3_path(ROOT_DIR) else \"s3://please-upload-me\",\n",
    "            \"number_videos\": video_count,\n",
    "            \"recording_participant_id\": None,\n",
    "            \"physical_setting_id\": None,\n",
    "            \"video_scenario_ids\": None,\n",
    "        }\n",
    "    )\n",
    "\n",
    "take_metadata = pd.DataFrame.from_records(take_metadata_records)\n",
    "take_metadata"
   ]
  },
  {
   "cell_type": "markdown",
   "metadata": {
    "customInput": null,
    "deletable": false,
    "editable": false,
    "originalKey": "9d60f5bc-97d1-4213-b25b-eee4b2a80a45",
    "showInput": false
   },
   "source": [
    "## Generate video_metadata.csv"
   ]
  },
  {
   "cell_type": "code",
   "execution_count": null,
   "metadata": {
    "customInput": null,
    "deletable": false,
    "editable": false,
    "executionStartTime": 1675967264096,
    "executionStopTime": 1675967281546,
    "originalKey": "b610d056-7b0d-46c9-b74c-bf8973f38554",
    "requestMsgId": "157e176c-1e7e-47c5-9ae9-f7d5517d9ac6",
    "showInput": true
   },
   "outputs": [],
   "source": [
    "video_metadata_records = []\n",
    "for take_id in clean_take_ids:\n",
    "    root = os.path.join(ROOT_DIR, take_id)\n",
    "    root_ls = ls(root)\n",
    "    ego_cameras = (\n",
    "        ls(os.path.join(root, \"ego\")) if \"ego\" in root_ls else []\n",
    "    )\n",
    "    exo_cameras = (\n",
    "        ls(os.path.join(root, \"exo\")) if \"exo\" in root_ls else []\n",
    "    )\n",
    "\n",
    "    video_count = 0\n",
    "    for cam in ego_cameras:\n",
    "        cam_root = os.path.join(root, \"ego\", cam)\n",
    "        video_metadata_records.append(\n",
    "            {\n",
    "                \"university_take_id\": take_id,\n",
    "                \"university_video_id\": cam,\n",
    "                \"number_video_components\": len(\n",
    "                    [x for x in ls(cam_root) if is_video(x)]\n",
    "                ),\n",
    "                \"is_ego\": True,\n",
    "                \"has_walkaround\": EGO_HAS_WALKAROUND,\n",
    "                \"is_redacted\": False,\n",
    "                \"includes_audio\": True,\n",
    "                \"device_id\": cam,\n",
    "                \"recording_participant_id\": None,\n",
    "                \"video_device_settings\": None,\n",
    "            }\n",
    "        )\n",
    "\n",
    "    for cam in exo_cameras:\n",
    "        cam_root = os.path.join(root, \"exo\", cam)\n",
    "        video_metadata_records.append(\n",
    "            {\n",
    "                \"university_take_id\": take_id,\n",
    "                \"university_video_id\": cam,\n",
    "                \"number_video_components\": len(\n",
    "                    [x for x in ls(cam_root) if is_video(x)]\n",
    "                ),\n",
    "                \"is_ego\": False,\n",
    "                \"has_walkaround\": cam in WALKAROUND_CAM_NAMES,\n",
    "                \"is_redacted\": False,\n",
    "                \"includes_audio\": True,\n",
    "                \"device_id\": cam,\n",
    "                \"recording_participant_id\": None,\n",
    "                \"video_device_settings\": None,\n",
    "            }\n",
    "        )\n",
    "        \n",
    "    # Remove any 'cameras' with 0 videos. This removes extraneous files like .DS_STORE\n",
    "    video_metadata_records = [x for x in video_metadata_records if x['number_video_components'] > 0]\n",
    "\n",
    "video_metadata = pd.DataFrame.from_records(video_metadata_records)\n",
    "video_metadata"
   ]
  },
  {
   "cell_type": "markdown",
   "metadata": {
    "customInput": null,
    "deletable": false,
    "editable": false,
    "originalKey": "caf80054-a983-4cc6-86ba-a1ed319da47e",
    "showInput": false
   },
   "source": [
    "## Generate video_component_file.csv"
   ]
  },
  {
   "cell_type": "code",
   "execution_count": null,
   "metadata": {
    "customInput": null,
    "deletable": false,
    "editable": false,
    "executionStartTime": 1675967281835,
    "executionStopTime": 1675967298459,
    "originalKey": "56dca583-c8f0-47ec-ad50-7225ca31a73e",
    "requestMsgId": "d1d9ea3d-38af-4467-bc6f-c8d326c66fa6",
    "showInput": true
   },
   "outputs": [],
   "source": [
    "video_component_file_records = []\n",
    "for take_id in clean_take_ids:\n",
    "    root = os.path.join(ROOT_DIR, take_id)\n",
    "    root_ls = ls(root)\n",
    "    ego_cameras = (\n",
    "        ls(os.path.join(root, \"ego\")) if \"ego\" in root_ls else []\n",
    "    )\n",
    "    exo_cameras = (\n",
    "        ls(os.path.join(root, \"exo\")) if \"exo\" in root_ls else []\n",
    "    )\n",
    "\n",
    "    video_count = 0\n",
    "    for cam in ego_cameras:\n",
    "        cam_root = os.path.join(root, \"ego\", cam)\n",
    "        for i, filename in enumerate(\n",
    "            sorted([x for x in ls(cam_root) if is_video(x)])\n",
    "        ):\n",
    "            video_component_file_records.append(\n",
    "                {\n",
    "                    \"university_take_id\": take_id,\n",
    "                    \"university_video_id\": cam,\n",
    "                    \"video_component_relative_path\": f\"ego/{cam}/{filename}\",\n",
    "                    \"component_index\": i,\n",
    "                    \"is_redacted\": False,\n",
    "                    \"component_metadata\": None,\n",
    "                    \"deidentification_metadata\": None,\n",
    "                }\n",
    "            )\n",
    "\n",
    "    for cam in exo_cameras:\n",
    "        cam_root = os.path.join(root, \"exo\", cam)\n",
    "        for i, filename in enumerate(\n",
    "            sorted([x for x in ls(cam_root) if is_video(x)])\n",
    "        ):\n",
    "            video_component_file_records.append(\n",
    "                {\n",
    "                    \"university_take_id\": take_id,\n",
    "                    \"university_video_id\": cam,\n",
    "                    \"video_component_relative_path\": f\"exo/{cam}/{filename}\",\n",
    "                    \"component_index\": i,\n",
    "                    \"is_redacted\": False,\n",
    "                    \"component_metadata\": None,\n",
    "                    \"deidentification_metadata\": None,\n",
    "                }\n",
    "            )\n",
    "\n",
    "video_component_file = pd.DataFrame.from_records(video_component_file_records)\n",
    "video_component_file"
   ]
  },
  {
   "cell_type": "markdown",
   "metadata": {
    "customInput": null,
    "deletable": false,
    "editable": false,
    "originalKey": "99d4c9fd-67a9-415d-856f-83a034f4df46",
    "showInput": false
   },
   "source": [
    "## Write new manifest files to Output Directory"
   ]
  },
  {
   "cell_type": "code",
   "execution_count": null,
   "metadata": {
    "customInput": null,
    "deletable": false,
    "editable": false,
    "executionStartTime": 1675967298686,
    "executionStopTime": 1675967300187,
    "originalKey": "3d537ee2-5843-4833-9de9-f4ce9f4c699b",
    "requestMsgId": "8e1000fd-4b27-4c59-89de-f7a95a9dc781",
    "showInput": true
   },
   "outputs": [],
   "source": [
    "manifest_dir = os.path.join(OUTPUT_DIRECTORY, f\"manifest_{MANIFEST_VERSION}\")\n",
    "file_dfs = {\n",
    "    \"take_metadata.csv\": {\n",
    "        \"data\": take_metadata,\n",
    "        \"primary_keys\": [\"university_take_id\"]\n",
    "    },\n",
    "    \"video_metadata.csv\": {\n",
    "        \"data\": video_metadata,\n",
    "        \"primary_keys\": [\"university_take_id\", \"university_video_id\"]\n",
    "    },\n",
    "    \"video_component_file.csv\": {\n",
    "        \"data\": video_component_file,\n",
    "        \"primary_keys\": [\"university_take_id\", \"university_video_id\", \"video_component_relative_path\"]\n",
    "    }\n",
    "}\n",
    "\n",
    "os.makedirs(manifest_dir, exist_ok = True)\n",
    "for filename in file_dfs.keys():\n",
    "    filepath = os.path.join(manifest_dir, filename)\n",
    "    data, primary_keys = file_dfs[filename]['data'], file_dfs[filename]['primary_keys']\n",
    "\n",
    "    # Filter out rows that already exist in this folder\n",
    "    # based on the dataframe's primary keys\n",
    "    if os.path.isfile(filepath):\n",
    "        assert len([c for c in data.columns if c.endswith('_y') or c.endswith('_x')]) == 0, \"Please rename columns ending in _x or _y\"\n",
    "        \n",
    "        preexisting_data = pd.read_csv(filepath)\n",
    "        data = pd.merge(data, preexisting_data, on=primary_keys, how=\"outer\", indicator=True\n",
    "              ).query('_merge==\"left_only\"')\n",
    "        # Fix column names post-merge and drop merge-specific columns\n",
    "        data = data.drop(columns = ['_merge'] + [c for c in data.columns if c.endswith('_y')])\n",
    "        data = data.rename(columns={\n",
    "            c: c[:-2]\n",
    "            for c in data.columns if c.endswith('_x')\n",
    "        })\n",
    "        data = pd.concat([preexisting_data, data])\n",
    "        print(f\"Retained pre-existing data for {filename}\")\n",
    "    \n",
    "    with open(filepath, \"w\") as f:\n",
    "        data.to_csv(f, index=False)\n",
    "\n",
    "print(f\"Successfully wrote {len(file_dfs)} files to {manifest_dir}\")"
   ]
  }
 ],
 "metadata": {
  "bento_stylesheets": {
   "bento/extensions/flow/main.css": true,
   "bento/extensions/kernel_selector/main.css": true,
   "bento/extensions/kernel_ui/main.css": true,
   "bento/extensions/new_kernel/main.css": true,
   "bento/extensions/system_usage/main.css": true,
   "bento/extensions/theme/main.css": true
  },
  "dataExplorerConfig": {},
  "kernelspec": {
   "display_name": "conda-nlp",
   "language": "python",
   "name": "conda-nlp"
  },
  "language_info": {
   "codemirror_mode": {
    "name": "ipython",
    "version": 3
   },
   "file_extension": ".py",
   "mimetype": "text/x-python",
   "name": "python",
   "nbconvert_exporter": "python",
   "pygments_lexer": "ipython3",
   "version": "3.9.10"
  },
  "outputWidgetContext": {}
 },
 "nbformat": 4,
 "nbformat_minor": 2
}
